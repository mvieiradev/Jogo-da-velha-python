{
  "nbformat": 4,
  "nbformat_minor": 0,
  "metadata": {
    "colab": {
      "provenance": [],
      "authorship_tag": "ABX9TyORzA6qvV2bGbhcyrQRH+g0",
      "include_colab_link": true
    },
    "kernelspec": {
      "name": "python3",
      "display_name": "Python 3"
    },
    "language_info": {
      "name": "python"
    }
  },
  "cells": [
    {
      "cell_type": "markdown",
      "metadata": {
        "id": "view-in-github",
        "colab_type": "text"
      },
      "source": [
        "<a href=\"https://colab.research.google.com/github/mvieiradev/Jogo-da-velha-python/blob/main/Jogo_da_velha_python.ipynb\" target=\"_parent\"><img src=\"https://colab.research.google.com/assets/colab-badge.svg\" alt=\"Open In Colab\"/></a>"
      ]
    },
    {
      "cell_type": "code",
      "execution_count": null,
      "metadata": {
        "id": "nrIOIVEZ_0fi"
      },
      "outputs": [],
      "source": [
        "def menu():\n",
        "    continuar=1\n",
        "    while continuar:\n",
        "        continuar = int(input(\"0. Sair \\n\"+\n",
        "                              \"1. Jogar novamente\\n\"))\n",
        "        if continuar:\n",
        "            game()\n",
        "        else:\n",
        "            print(\"Saindo...\")\n",
        "\n",
        "def game():\n",
        "    jogada=0\n",
        "\n",
        "    while ganhou() == 0:\n",
        "        print(\"\\nJogador \", jogada%2 + 1)\n",
        "        exibe()\n",
        "        linha  = int(input(\"\\nLinha :\"))\n",
        "        coluna = int(input(\"Coluna:\"))\n",
        "\n",
        "        if board[linha-1][coluna-1] == 0:\n",
        "            if(jogada%2+1)==1:\n",
        "                board[linha-1][coluna-1]=1\n",
        "            else:\n",
        "                board[linha-1][coluna-1]=-1\n",
        "        else:\n",
        "            print(\"Nao esta vazio\")\n",
        "            jogada -=1\n",
        "\n",
        "        if ganhou():\n",
        "            print(\"Jogador \",jogada%2 + 1,\" ganhou apos \", jogada+1,\" rodadas\")\n",
        "\n",
        "        jogada +=1\n",
        "    \n",
        "def ganhou():\n",
        "    #checando linhas\n",
        "    for i in range(3):\n",
        "        soma = board[i][0]+board[i][1]+board[i][2]\n",
        "        if soma==3 or soma ==-3:\n",
        "            return 1\n",
        "\n",
        "     #checando colunas\n",
        "    for i in range(3):\n",
        "        soma = board[0][i]+board[1][i]+board[2][i]\n",
        "        if soma==3 or soma ==-3:\n",
        "            return 1\n",
        "\n",
        "    #checando diagonais\n",
        "    diagonal1 = board[0][0]+board[1][1]+board[2][2]\n",
        "    diagonal2 = board[0][2]+board[1][1]+board[2][0]\n",
        "    if diagonal1==3 or diagonal1==-3 or diagonal2==3 or diagonal2==-3:\n",
        "        return 1\n",
        "\n",
        "    return 0\n",
        "\n",
        "def exibe():\n",
        "    for i in range(3):\n",
        "        for j in range(3):\n",
        "            if board[i][j] == 0:\n",
        "                print(\" _ \", end=' ')\n",
        "            elif board[i][j] == 1:\n",
        "                print(\" X \", end=' ')\n",
        "            elif board[i][j] == -1:\n",
        "                print(\" O \", end=' ')\n",
        "\n",
        "        print()\n",
        "                \n",
        "\n",
        "board= [ [0,0,0],\n",
        "         [0,0,0],\n",
        "         [0,0,0] ]\n",
        "\n",
        "menu()\n"
      ]
    }
  ]
}